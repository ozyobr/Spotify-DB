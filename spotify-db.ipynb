{
 "cells": [
  {
   "cell_type": "code",
   "execution_count": 1,
   "id": "2862d3d6",
   "metadata": {
    "_cell_guid": "b1076dfc-b9ad-4769-8c92-a6c4dae69d19",
    "_uuid": "8f2839f25d086af736a60e9eeb907d3b93b6e0e5",
    "execution": {
     "iopub.execute_input": "2023-08-06T16:48:18.774581Z",
     "iopub.status.busy": "2023-08-06T16:48:18.774162Z",
     "iopub.status.idle": "2023-08-06T16:48:18.796260Z",
     "shell.execute_reply": "2023-08-06T16:48:18.795451Z"
    },
    "papermill": {
     "duration": 0.031863,
     "end_time": "2023-08-06T16:48:18.798562",
     "exception": false,
     "start_time": "2023-08-06T16:48:18.766699",
     "status": "completed"
    },
    "tags": []
   },
   "outputs": [
    {
     "name": "stdout",
     "output_type": "stream",
     "text": [
      "/kaggle/input/ultimate-spotify-tracks-db/SpotifyFeatures.csv\n"
     ]
    }
   ],
   "source": [
    "# This Python 3 environment comes with many helpful analytics libraries installed\n",
    "# It is defined by the kaggle/python Docker image: https://github.com/kaggle/docker-python\n",
    "# For example, here's several helpful packages to load\n",
    "\n",
    "import numpy as np # linear algebra\n",
    "import pandas as pd # data processing, CSV file I/O (e.g. pd.read_csv)\n",
    "\n",
    "# Input data files are available in the read-only \"../input/\" directory\n",
    "# For example, running this (by clicking run or pressing Shift+Enter) will list all files under the input directory\n",
    "\n",
    "import os\n",
    "for dirname, _, filenames in os.walk('/kaggle/input'):\n",
    "    for filename in filenames:\n",
    "        print(os.path.join(dirname, filename))\n",
    "\n",
    "# You can write up to 20GB to the current directory (/kaggle/working/) that gets preserved as output when you create a version using \"Save & Run All\" \n",
    "# You can also write temporary files to /kaggle/temp/, but they won't be saved outside of the current session"
   ]
  },
  {
   "cell_type": "code",
   "execution_count": 2,
   "id": "77766345",
   "metadata": {
    "execution": {
     "iopub.execute_input": "2023-08-06T16:48:18.811319Z",
     "iopub.status.busy": "2023-08-06T16:48:18.810572Z",
     "iopub.status.idle": "2023-08-06T16:48:20.935472Z",
     "shell.execute_reply": "2023-08-06T16:48:20.933026Z"
    },
    "papermill": {
     "duration": 2.133841,
     "end_time": "2023-08-06T16:48:20.937949",
     "exception": false,
     "start_time": "2023-08-06T16:48:18.804108",
     "status": "completed"
    },
    "tags": []
   },
   "outputs": [
    {
     "name": "stdout",
     "output_type": "stream",
     "text": [
      "<class 'pandas.core.frame.DataFrame'>\n",
      "RangeIndex: 232725 entries, 0 to 232724\n",
      "Data columns (total 18 columns):\n",
      " #   Column            Non-Null Count   Dtype  \n",
      "---  ------            --------------   -----  \n",
      " 0   genre             232725 non-null  object \n",
      " 1   artist_name       232725 non-null  object \n",
      " 2   track_name        232725 non-null  object \n",
      " 3   track_id          232725 non-null  object \n",
      " 4   popularity        232725 non-null  int64  \n",
      " 5   acousticness      232725 non-null  float64\n",
      " 6   danceability      232725 non-null  float64\n",
      " 7   duration_ms       232725 non-null  int64  \n",
      " 8   energy            232725 non-null  float64\n",
      " 9   instrumentalness  232725 non-null  float64\n",
      " 10  key               232725 non-null  object \n",
      " 11  liveness          232725 non-null  float64\n",
      " 12  loudness          232725 non-null  float64\n",
      " 13  mode              232725 non-null  object \n",
      " 14  speechiness       232725 non-null  float64\n",
      " 15  tempo             232725 non-null  float64\n",
      " 16  time_signature    232725 non-null  object \n",
      " 17  valence           232725 non-null  float64\n",
      "dtypes: float64(9), int64(2), object(7)\n",
      "memory usage: 32.0+ MB\n"
     ]
    }
   ],
   "source": [
    "df = pd.read_csv('/kaggle/input/ultimate-spotify-tracks-db/SpotifyFeatures.csv')\n",
    "df.info()"
   ]
  },
  {
   "cell_type": "code",
   "execution_count": 3,
   "id": "742e2c7e",
   "metadata": {
    "execution": {
     "iopub.execute_input": "2023-08-06T16:48:20.951465Z",
     "iopub.status.busy": "2023-08-06T16:48:20.950439Z",
     "iopub.status.idle": "2023-08-06T16:48:21.474364Z",
     "shell.execute_reply": "2023-08-06T16:48:21.473133Z"
    },
    "papermill": {
     "duration": 0.533136,
     "end_time": "2023-08-06T16:48:21.476786",
     "exception": false,
     "start_time": "2023-08-06T16:48:20.943650",
     "status": "completed"
    },
    "tags": []
   },
   "outputs": [
    {
     "data": {
      "text/plain": [
       "genre               0\n",
       "artist_name         0\n",
       "track_name          0\n",
       "track_id            0\n",
       "popularity          0\n",
       "acousticness        0\n",
       "danceability        0\n",
       "duration_ms         0\n",
       "energy              0\n",
       "instrumentalness    0\n",
       "key                 0\n",
       "liveness            0\n",
       "loudness            0\n",
       "mode                0\n",
       "speechiness         0\n",
       "tempo               0\n",
       "time_signature      0\n",
       "valence             0\n",
       "dtype: int64"
      ]
     },
     "execution_count": 3,
     "metadata": {},
     "output_type": "execute_result"
    }
   ],
   "source": [
    "df.isnull().sum()"
   ]
  },
  {
   "cell_type": "code",
   "execution_count": 4,
   "id": "5e2d5cf5",
   "metadata": {
    "execution": {
     "iopub.execute_input": "2023-08-06T16:48:21.490015Z",
     "iopub.status.busy": "2023-08-06T16:48:21.489613Z",
     "iopub.status.idle": "2023-08-06T16:48:21.517542Z",
     "shell.execute_reply": "2023-08-06T16:48:21.516514Z"
    },
    "papermill": {
     "duration": 0.037968,
     "end_time": "2023-08-06T16:48:21.520280",
     "exception": false,
     "start_time": "2023-08-06T16:48:21.482312",
     "status": "completed"
    },
    "tags": []
   },
   "outputs": [],
   "source": [
    "y = df['popularity']\n",
    "X = df.drop(columns = ['popularity'], axis = 1)"
   ]
  },
  {
   "cell_type": "code",
   "execution_count": 5,
   "id": "20ba4e79",
   "metadata": {
    "execution": {
     "iopub.execute_input": "2023-08-06T16:48:21.533398Z",
     "iopub.status.busy": "2023-08-06T16:48:21.532987Z",
     "iopub.status.idle": "2023-08-06T16:48:24.668077Z",
     "shell.execute_reply": "2023-08-06T16:48:24.666888Z"
    },
    "papermill": {
     "duration": 3.144838,
     "end_time": "2023-08-06T16:48:24.670855",
     "exception": false,
     "start_time": "2023-08-06T16:48:21.526017",
     "status": "completed"
    },
    "tags": []
   },
   "outputs": [
    {
     "name": "stderr",
     "output_type": "stream",
     "text": [
      "/opt/conda/lib/python3.10/site-packages/scipy/__init__.py:146: UserWarning: A NumPy version >=1.16.5 and <1.23.0 is required for this version of SciPy (detected version 1.23.5\n",
      "  warnings.warn(f\"A NumPy version >={np_minversion} and <{np_maxversion}\"\n"
     ]
    },
    {
     "data": {
      "text/html": [
       "<div>\n",
       "<style scoped>\n",
       "    .dataframe tbody tr th:only-of-type {\n",
       "        vertical-align: middle;\n",
       "    }\n",
       "\n",
       "    .dataframe tbody tr th {\n",
       "        vertical-align: top;\n",
       "    }\n",
       "\n",
       "    .dataframe thead th {\n",
       "        text-align: right;\n",
       "    }\n",
       "</style>\n",
       "<table border=\"1\" class=\"dataframe\">\n",
       "  <thead>\n",
       "    <tr style=\"text-align: right;\">\n",
       "      <th></th>\n",
       "      <th>genre</th>\n",
       "      <th>artist_name</th>\n",
       "      <th>track_name</th>\n",
       "      <th>track_id</th>\n",
       "      <th>acousticness</th>\n",
       "      <th>danceability</th>\n",
       "      <th>duration_ms</th>\n",
       "      <th>energy</th>\n",
       "      <th>instrumentalness</th>\n",
       "      <th>key</th>\n",
       "      <th>liveness</th>\n",
       "      <th>loudness</th>\n",
       "      <th>mode</th>\n",
       "      <th>speechiness</th>\n",
       "      <th>tempo</th>\n",
       "      <th>time_signature</th>\n",
       "      <th>valence</th>\n",
       "    </tr>\n",
       "  </thead>\n",
       "  <tbody>\n",
       "    <tr>\n",
       "      <th>0</th>\n",
       "      <td>15</td>\n",
       "      <td>5181</td>\n",
       "      <td>18348</td>\n",
       "      <td>4210</td>\n",
       "      <td>0.611</td>\n",
       "      <td>0.389</td>\n",
       "      <td>99373</td>\n",
       "      <td>0.910</td>\n",
       "      <td>0.000</td>\n",
       "      <td>4</td>\n",
       "      <td>0.3460</td>\n",
       "      <td>-1.828</td>\n",
       "      <td>0</td>\n",
       "      <td>0.0525</td>\n",
       "      <td>166.969</td>\n",
       "      <td>3</td>\n",
       "      <td>0.814</td>\n",
       "    </tr>\n",
       "    <tr>\n",
       "      <th>1</th>\n",
       "      <td>15</td>\n",
       "      <td>8254</td>\n",
       "      <td>92963</td>\n",
       "      <td>4316</td>\n",
       "      <td>0.246</td>\n",
       "      <td>0.590</td>\n",
       "      <td>137373</td>\n",
       "      <td>0.737</td>\n",
       "      <td>0.000</td>\n",
       "      <td>9</td>\n",
       "      <td>0.1510</td>\n",
       "      <td>-5.559</td>\n",
       "      <td>1</td>\n",
       "      <td>0.0868</td>\n",
       "      <td>174.003</td>\n",
       "      <td>3</td>\n",
       "      <td>0.816</td>\n",
       "    </tr>\n",
       "    <tr>\n",
       "      <th>2</th>\n",
       "      <td>15</td>\n",
       "      <td>6451</td>\n",
       "      <td>32194</td>\n",
       "      <td>4704</td>\n",
       "      <td>0.952</td>\n",
       "      <td>0.663</td>\n",
       "      <td>170267</td>\n",
       "      <td>0.131</td>\n",
       "      <td>0.000</td>\n",
       "      <td>3</td>\n",
       "      <td>0.1030</td>\n",
       "      <td>-13.879</td>\n",
       "      <td>1</td>\n",
       "      <td>0.0362</td>\n",
       "      <td>99.488</td>\n",
       "      <td>4</td>\n",
       "      <td>0.368</td>\n",
       "    </tr>\n",
       "    <tr>\n",
       "      <th>3</th>\n",
       "      <td>15</td>\n",
       "      <td>5181</td>\n",
       "      <td>30998</td>\n",
       "      <td>6102</td>\n",
       "      <td>0.703</td>\n",
       "      <td>0.240</td>\n",
       "      <td>152427</td>\n",
       "      <td>0.326</td>\n",
       "      <td>0.000</td>\n",
       "      <td>4</td>\n",
       "      <td>0.0985</td>\n",
       "      <td>-12.178</td>\n",
       "      <td>0</td>\n",
       "      <td>0.0395</td>\n",
       "      <td>171.758</td>\n",
       "      <td>3</td>\n",
       "      <td>0.227</td>\n",
       "    </tr>\n",
       "    <tr>\n",
       "      <th>4</th>\n",
       "      <td>15</td>\n",
       "      <td>4074</td>\n",
       "      <td>90793</td>\n",
       "      <td>6973</td>\n",
       "      <td>0.950</td>\n",
       "      <td>0.331</td>\n",
       "      <td>82625</td>\n",
       "      <td>0.225</td>\n",
       "      <td>0.123</td>\n",
       "      <td>8</td>\n",
       "      <td>0.2020</td>\n",
       "      <td>-21.150</td>\n",
       "      <td>0</td>\n",
       "      <td>0.0456</td>\n",
       "      <td>140.576</td>\n",
       "      <td>3</td>\n",
       "      <td>0.390</td>\n",
       "    </tr>\n",
       "  </tbody>\n",
       "</table>\n",
       "</div>"
      ],
      "text/plain": [
       "   genre  artist_name  track_name  track_id  acousticness  danceability  \\\n",
       "0     15         5181       18348      4210         0.611         0.389   \n",
       "1     15         8254       92963      4316         0.246         0.590   \n",
       "2     15         6451       32194      4704         0.952         0.663   \n",
       "3     15         5181       30998      6102         0.703         0.240   \n",
       "4     15         4074       90793      6973         0.950         0.331   \n",
       "\n",
       "   duration_ms  energy  instrumentalness  key  liveness  loudness  mode  \\\n",
       "0        99373   0.910             0.000    4    0.3460    -1.828     0   \n",
       "1       137373   0.737             0.000    9    0.1510    -5.559     1   \n",
       "2       170267   0.131             0.000    3    0.1030   -13.879     1   \n",
       "3       152427   0.326             0.000    4    0.0985   -12.178     0   \n",
       "4        82625   0.225             0.123    8    0.2020   -21.150     0   \n",
       "\n",
       "   speechiness    tempo  time_signature  valence  \n",
       "0       0.0525  166.969               3    0.814  \n",
       "1       0.0868  174.003               3    0.816  \n",
       "2       0.0362   99.488               4    0.368  \n",
       "3       0.0395  171.758               3    0.227  \n",
       "4       0.0456  140.576               3    0.390  "
      ]
     },
     "execution_count": 5,
     "metadata": {},
     "output_type": "execute_result"
    }
   ],
   "source": [
    "from sklearn.preprocessing import LabelEncoder\n",
    "\n",
    "for col in X.columns:\n",
    "    if X[col].dtype == 'object':\n",
    "        X[col] = LabelEncoder().fit_transform(X[col])\n",
    "\n",
    "X.head()"
   ]
  },
  {
   "cell_type": "code",
   "execution_count": 6,
   "id": "cecb4336",
   "metadata": {
    "execution": {
     "iopub.execute_input": "2023-08-06T16:48:24.685349Z",
     "iopub.status.busy": "2023-08-06T16:48:24.684123Z",
     "iopub.status.idle": "2023-08-06T16:48:24.853967Z",
     "shell.execute_reply": "2023-08-06T16:48:24.852976Z"
    },
    "papermill": {
     "duration": 0.179691,
     "end_time": "2023-08-06T16:48:24.856617",
     "exception": false,
     "start_time": "2023-08-06T16:48:24.676926",
     "status": "completed"
    },
    "tags": []
   },
   "outputs": [],
   "source": [
    "from sklearn.model_selection import train_test_split\n",
    "from sklearn.metrics import accuracy_score\n",
    "\n",
    "X_train, X_test, y_train, y_test = train_test_split(X, y, test_size = 0.3, random_state = 21)\n",
    "y_test = pd.array(y_test, dtype = np.dtype(\"int\"))"
   ]
  },
  {
   "cell_type": "code",
   "execution_count": 7,
   "id": "01456b76",
   "metadata": {
    "execution": {
     "iopub.execute_input": "2023-08-06T16:48:24.870510Z",
     "iopub.status.busy": "2023-08-06T16:48:24.870105Z",
     "iopub.status.idle": "2023-08-06T16:48:25.404094Z",
     "shell.execute_reply": "2023-08-06T16:48:25.402948Z"
    },
    "papermill": {
     "duration": 0.544599,
     "end_time": "2023-08-06T16:48:25.407280",
     "exception": false,
     "start_time": "2023-08-06T16:48:24.862681",
     "status": "completed"
    },
    "tags": []
   },
   "outputs": [],
   "source": [
    "#очень наврятли, что зависимость линейна, но посмотрим, какой скор даст линейная регрессия\n",
    "from sklearn.linear_model import LinearRegression\n",
    "\n",
    "\n",
    "linear_model = LinearRegression()\n",
    "\n",
    "linear_model.fit(X_train, y_train)\n",
    "\n",
    "predict_y = linear_model.predict(X_test)\n",
    "\n",
    "linear_MAE = 0\n",
    "\n",
    "for i in range(0, len(predict_y)):\n",
    "    linear_MAE = linear_MAE + abs(y_test[i] - predict_y[i])\n",
    "    \n",
    "linearMAE = linear_MAE / len(predict_y)"
   ]
  },
  {
   "cell_type": "code",
   "execution_count": 8,
   "id": "aefc5608",
   "metadata": {
    "execution": {
     "iopub.execute_input": "2023-08-06T16:48:25.421976Z",
     "iopub.status.busy": "2023-08-06T16:48:25.421223Z",
     "iopub.status.idle": "2023-08-06T16:48:28.508099Z",
     "shell.execute_reply": "2023-08-06T16:48:28.507053Z"
    },
    "papermill": {
     "duration": 3.097492,
     "end_time": "2023-08-06T16:48:28.510852",
     "exception": false,
     "start_time": "2023-08-06T16:48:25.413360",
     "status": "completed"
    },
    "tags": []
   },
   "outputs": [],
   "source": [
    "#попробуем дерево регрессии\n",
    "from sklearn.tree import DecisionTreeRegressor\n",
    "\n",
    "tree_regr = DecisionTreeRegressor(max_depth = 12)\n",
    "\n",
    "tree_regr.fit(X_train, y_train)\n",
    "\n",
    "tree_regr_predict_y = tree_regr.predict(X_test)\n",
    "\n",
    "tree_regr_MAE = 0\n",
    "\n",
    "for i in range(0, len(tree_regr_predict_y)):\n",
    "    tree_regr_MAE = tree_regr_MAE + abs(y_test[i] - tree_regr_predict_y[i])\n",
    "    \n",
    "tree_regr_MAE = tree_regr_MAE / len(predict_y)"
   ]
  },
  {
   "cell_type": "code",
   "execution_count": 9,
   "id": "ae5a96ef",
   "metadata": {
    "execution": {
     "iopub.execute_input": "2023-08-06T16:48:28.524977Z",
     "iopub.status.busy": "2023-08-06T16:48:28.524235Z",
     "iopub.status.idle": "2023-08-06T16:51:49.002811Z",
     "shell.execute_reply": "2023-08-06T16:51:49.001623Z"
    },
    "papermill": {
     "duration": 200.488976,
     "end_time": "2023-08-06T16:51:49.005931",
     "exception": false,
     "start_time": "2023-08-06T16:48:28.516955",
     "status": "completed"
    },
    "tags": []
   },
   "outputs": [],
   "source": [
    "#попробуем лес деревьев\n",
    "from sklearn.ensemble import RandomForestRegressor\n",
    "\n",
    "forest_regr = RandomForestRegressor(n_estimators = 400, max_depth = 3, random_state = 21)\n",
    "\n",
    "forest_regr.fit(X_train, y_train)\n",
    "\n",
    "forest_regr_predict_y = forest_regr.predict(X_test)\n",
    "\n",
    "forest_regr_MAE = 0\n",
    "\n",
    "for i in range(0, len(forest_regr_predict_y)):\n",
    "    forest_regr_MAE = forest_regr_MAE + abs(y_test[i] - forest_regr_predict_y[i])\n",
    "     \n",
    "forest_regr_MAE = forest_regr_MAE / len(predict_y)\n",
    "\n",
    "\n"
   ]
  },
  {
   "cell_type": "code",
   "execution_count": 10,
   "id": "28f60134",
   "metadata": {
    "execution": {
     "iopub.execute_input": "2023-08-06T16:51:49.022117Z",
     "iopub.status.busy": "2023-08-06T16:51:49.021685Z",
     "iopub.status.idle": "2023-08-06T16:53:05.256085Z",
     "shell.execute_reply": "2023-08-06T16:53:05.254710Z"
    },
    "papermill": {
     "duration": 76.245421,
     "end_time": "2023-08-06T16:53:05.259359",
     "exception": false,
     "start_time": "2023-08-06T16:51:49.013938",
     "status": "completed"
    },
    "tags": []
   },
   "outputs": [],
   "source": [
    "#Попробуем GBM\n",
    "from sklearn.ensemble import GradientBoostingRegressor\n",
    "\n",
    "GBM_reg = GradientBoostingRegressor(random_state = 21, n_estimators = 100, max_depth = 3, learning_rate = 0.1)\n",
    "\n",
    "GBM_reg.fit(X_train, y_train)\n",
    "\n",
    "GBM_regr_predict_y = GBM_reg.predict(X_test)\n",
    "\n",
    "GBM_regr_MAE = 0\n",
    "\n",
    "for i in range(0, len(GBM_regr_predict_y)):\n",
    "    GBM_regr_MAE = GBM_regr_MAE + abs(y_test[i] - GBM_regr_predict_y[i])\n",
    "    \n",
    "GBM_regr_MAE = GBM_regr_MAE / len(predict_y)"
   ]
  },
  {
   "cell_type": "code",
   "execution_count": 11,
   "id": "1d1bcdc2",
   "metadata": {
    "execution": {
     "iopub.execute_input": "2023-08-06T16:53:05.274034Z",
     "iopub.status.busy": "2023-08-06T16:53:05.273145Z",
     "iopub.status.idle": "2023-08-06T16:57:55.905784Z",
     "shell.execute_reply": "2023-08-06T16:57:55.904760Z"
    },
    "papermill": {
     "duration": 290.642648,
     "end_time": "2023-08-06T16:57:55.908481",
     "exception": false,
     "start_time": "2023-08-06T16:53:05.265833",
     "status": "completed"
    },
    "tags": []
   },
   "outputs": [
    {
     "name": "stderr",
     "output_type": "stream",
     "text": [
      "/opt/conda/lib/python3.10/site-packages/tensorflow_io/python/ops/__init__.py:98: UserWarning: unable to load libtensorflow_io_plugins.so: unable to open file: libtensorflow_io_plugins.so, from paths: ['/opt/conda/lib/python3.10/site-packages/tensorflow_io/python/ops/libtensorflow_io_plugins.so']\n",
      "caused by: ['/opt/conda/lib/python3.10/site-packages/tensorflow_io/python/ops/libtensorflow_io_plugins.so: undefined symbol: _ZN3tsl6StatusC1EN10tensorflow5error4CodeESt17basic_string_viewIcSt11char_traitsIcEENS_14SourceLocationE']\n",
      "  warnings.warn(f\"unable to load libtensorflow_io_plugins.so: {e}\")\n",
      "/opt/conda/lib/python3.10/site-packages/tensorflow_io/python/ops/__init__.py:104: UserWarning: file system plugins are not loaded: unable to open file: libtensorflow_io.so, from paths: ['/opt/conda/lib/python3.10/site-packages/tensorflow_io/python/ops/libtensorflow_io.so']\n",
      "caused by: ['/opt/conda/lib/python3.10/site-packages/tensorflow_io/python/ops/libtensorflow_io.so: undefined symbol: _ZTVN10tensorflow13GcsFileSystemE']\n",
      "  warnings.warn(f\"file system plugins are not loaded: {e}\")\n"
     ]
    },
    {
     "name": "stdout",
     "output_type": "stream",
     "text": [
      "Epoch 1/6\n",
      "32582/32582 [==============================] - 47s 1ms/step - loss: 185.0571 - mae: 185.0571\n",
      "Epoch 2/6\n",
      "32582/32582 [==============================] - 46s 1ms/step - loss: 16.5635 - mae: 16.5635\n",
      "Epoch 3/6\n",
      "32582/32582 [==============================] - 46s 1ms/step - loss: 15.8220 - mae: 15.8220\n",
      "Epoch 4/6\n",
      "32582/32582 [==============================] - 46s 1ms/step - loss: 14.8063 - mae: 14.8063\n",
      "Epoch 5/6\n",
      "32582/32582 [==============================] - 46s 1ms/step - loss: 14.8067 - mae: 14.8067\n",
      "Epoch 6/6\n",
      "32582/32582 [==============================] - 46s 1ms/step - loss: 14.8066 - mae: 14.8066\n",
      "2182/2182 [==============================] - 2s 1ms/step\n"
     ]
    }
   ],
   "source": [
    "#Наконец, попробуем нейронные сети прямого распространения\n",
    "from keras.models import Sequential\n",
    "from keras import layers\n",
    "\n",
    "neural_model = Sequential()\n",
    "\n",
    "neural_model.add(layers.Dense(8, input_dim = 17, activation = 'relu'))\n",
    "neural_model.add(layers.Dense(6, activation = 'relu'))\n",
    "neural_model.add(layers.Dense(1, activation = 'linear'))\n",
    "\n",
    "neural_model.compile(optimizer = \"Adam\", loss=\"mae\", metrics=[\"mae\"])\n",
    "\n",
    "neural_model.fit(X_train, y_train, epochs = 6, batch_size = 5)\n",
    "\n",
    "neural_predict_y = neural_model.predict(X_test)\n",
    "\n",
    "neural_MAE = 0\n",
    "\n",
    "for i in range(0, len(neural_predict_y)):\n",
    "    neural_MAE = neural_MAE + abs(y_test[i] - neural_predict_y[i])\n",
    "    \n",
    "neural_MAE = neural_MAE / len(predict_y)\n",
    "\n",
    "#перепробовав множество возможных внешних параметров, более удачного результата получить не вышло"
   ]
  },
  {
   "cell_type": "code",
   "execution_count": 12,
   "id": "76eeb0fb",
   "metadata": {
    "execution": {
     "iopub.execute_input": "2023-08-06T16:57:56.958414Z",
     "iopub.status.busy": "2023-08-06T16:57:56.957980Z",
     "iopub.status.idle": "2023-08-06T16:57:56.964831Z",
     "shell.execute_reply": "2023-08-06T16:57:56.963688Z"
    },
    "papermill": {
     "duration": 0.549576,
     "end_time": "2023-08-06T16:57:56.967027",
     "exception": false,
     "start_time": "2023-08-06T16:57:56.417451",
     "status": "completed"
    },
    "tags": []
   },
   "outputs": [
    {
     "name": "stdout",
     "output_type": "stream",
     "text": [
      "linearMAE: 12.654820059916071\n",
      "tree_regr_MAE: 7.148530607604506\n",
      "forest_regr_MAE: 11.072166201472854\n",
      "GBM_regr_MAE: 7.642583376819661\n",
      "neural_MAE: [14.75543019]\n"
     ]
    }
   ],
   "source": [
    "#Итого\n",
    "print('linearMAE:', linearMAE)\n",
    "print('tree_regr_MAE:', tree_regr_MAE)\n",
    "print('forest_regr_MAE:', forest_regr_MAE)\n",
    "print('GBM_regr_MAE:', GBM_regr_MAE)\n",
    "print('neural_MAE:', neural_MAE)"
   ]
  },
  {
   "cell_type": "code",
   "execution_count": null,
   "id": "05347d3a",
   "metadata": {
    "papermill": {
     "duration": 0.589544,
     "end_time": "2023-08-06T16:57:58.110656",
     "exception": false,
     "start_time": "2023-08-06T16:57:57.521112",
     "status": "completed"
    },
    "tags": []
   },
   "outputs": [],
   "source": []
  }
 ],
 "metadata": {
  "kernelspec": {
   "display_name": "Python 3",
   "language": "python",
   "name": "python3"
  },
  "language_info": {
   "codemirror_mode": {
    "name": "ipython",
    "version": 3
   },
   "file_extension": ".py",
   "mimetype": "text/x-python",
   "name": "python",
   "nbconvert_exporter": "python",
   "pygments_lexer": "ipython3",
   "version": "3.10.12"
  },
  "papermill": {
   "default_parameters": {},
   "duration": 594.032427,
   "end_time": "2023-08-06T16:58:01.518846",
   "environment_variables": {},
   "exception": null,
   "input_path": "__notebook__.ipynb",
   "output_path": "__notebook__.ipynb",
   "parameters": {},
   "start_time": "2023-08-06T16:48:07.486419",
   "version": "2.4.0"
  }
 },
 "nbformat": 4,
 "nbformat_minor": 5
}
